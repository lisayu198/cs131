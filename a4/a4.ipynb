{
 "cells": [
  {
   "cell_type": "code",
   "execution_count": 8,
   "id": "61f87fbe",
   "metadata": {},
   "outputs": [
    {
     "name": "stderr",
     "output_type": "stream",
     "text": [
      "25/04/26 05:42:51 INFO SparkEnv: Registering MapOutputTracker\n",
      "25/04/26 05:42:51 INFO SparkEnv: Registering BlockManagerMaster\n",
      "25/04/26 05:42:51 INFO SparkEnv: Registering BlockManagerMasterHeartbeat\n",
      "25/04/26 05:42:51 INFO SparkEnv: Registering OutputCommitCoordinator\n",
      "                                                                                \r"
     ]
    },
    {
     "name": "stdout",
     "output_type": "stream",
     "text": [
      "+---------------+------------+------------+------------+\n",
      "|passenger_count|pulocationid|dolocationid|total_amount|\n",
      "+---------------+------------+------------+------------+\n",
      "|            1.0|       151.0|       239.0|        9.95|\n",
      "|            1.0|       239.0|       246.0|        16.3|\n",
      "|            3.0|       236.0|       236.0|         5.8|\n",
      "|            5.0|       193.0|       193.0|        7.55|\n",
      "|            5.0|       193.0|       193.0|       55.55|\n",
      "|            5.0|       193.0|       193.0|       13.31|\n",
      "|            5.0|       193.0|       193.0|       55.55|\n",
      "|            1.0|       163.0|       229.0|        9.05|\n",
      "|            1.0|       229.0|         7.0|        18.5|\n",
      "|            2.0|       141.0|       234.0|        13.0|\n",
      "+---------------+------------+------------+------------+\n",
      "only showing top 10 rows\n",
      "\n"
     ]
    },
    {
     "name": "stderr",
     "output_type": "stream",
     "text": [
      "                                                                                \r"
     ]
    },
    {
     "name": "stdout",
     "output_type": "stream",
     "text": [
      "+---------------+------------+------------+------------+------------------+\n",
      "|passenger_count|pulocationid|dolocationid|total_amount|        prediction|\n",
      "+---------------+------------+------------+------------+------------------+\n",
      "|            0.0|         4.0|         4.0|         4.3|17.837203422019126|\n",
      "|            0.0|         4.0|        33.0|       17.75|17.837203422019126|\n",
      "|            0.0|         4.0|        68.0|        15.8|17.837203422019126|\n",
      "|            0.0|         4.0|        79.0|        9.75|17.837203422019126|\n",
      "|            0.0|         4.0|       125.0|         9.3|17.837203422019126|\n",
      "|            0.0|         4.0|       170.0|       11.15|17.837203422019126|\n",
      "|            0.0|         7.0|         7.0|        0.31|17.837203422019126|\n",
      "|            0.0|         7.0|         7.0|         6.3|17.837203422019126|\n",
      "|            0.0|         7.0|       112.0|        16.8|17.837203422019126|\n",
      "|            0.0|         7.0|       138.0|        10.8|17.837203422019126|\n",
      "+---------------+------------+------------+------------+------------------+\n",
      "only showing top 10 rows\n",
      "\n"
     ]
    },
    {
     "name": "stderr",
     "output_type": "stream",
     "text": [
      "[Stage 18:=============================>                            (2 + 2) / 4]\r"
     ]
    },
    {
     "name": "stdout",
     "output_type": "stream",
     "text": [
      "Root Mean Squared Error (RMSE) on test data = 24.6592\n"
     ]
    },
    {
     "name": "stderr",
     "output_type": "stream",
     "text": [
      "\r\n",
      "                                                                                \r"
     ]
    }
   ],
   "source": [
    "from pyspark.sql import SparkSession\n",
    "from pyspark.ml.feature import VectorAssembler\n",
    "from pyspark.ml.regression import DecisionTreeRegressor\n",
    "from pyspark.ml import Pipeline\n",
    "from pyspark.ml.evaluation import RegressionEvaluator\n",
    "\n",
    "# Start Spark session\n",
    "spark = SparkSession.builder \\\n",
    "    .appName(\"DecisionTreeRegression\") \\\n",
    "    .getOrCreate()\n",
    "\n",
    "# Load the dataset\n",
    "path = \"gs://dataproc-staging-us-central1-762478826489-su9ldjls/2019-01-h1.csv\"\n",
    "df = spark.read.csv(path, header=True, inferSchema=True)\n",
    "\n",
    "# Select the required columns\n",
    "df_selected = df.select(\"passenger_count\", \"pulocationid\", \"dolocationid\", \"total_amount\")\n",
    "\n",
    "# Show the first 10 entries\n",
    "df_selected.show(10)\n",
    "\n",
    "# Split into training and testing sets\n",
    "trainDF, testDF = df_selected.randomSplit([0.8, 0.2], seed=42)\n",
    "\n",
    "# Assemble features into a single vector\n",
    "assembler = VectorAssembler(\n",
    "    inputCols=[\"passenger_count\", \"pulocationid\", \"dolocationid\"],\n",
    "    outputCol=\"features\"\n",
    ")\n",
    "\n",
    "# Define the Decision Tree Regressor\n",
    "dt = DecisionTreeRegressor(\n",
    "    featuresCol=\"features\", \n",
    "    labelCol=\"total_amount\"\n",
    ")\n",
    "\n",
    "# Set max bins (important for DecisionTree)\n",
    "dt = dt.setMaxBins(1000)\n",
    "\n",
    "# Create a pipeline\n",
    "pipeline = Pipeline(stages=[assembler, dt])\n",
    "\n",
    "# Train the model\n",
    "model = pipeline.fit(trainDF)\n",
    "\n",
    "# Make predictions\n",
    "predictions = model.transform(testDF)\n",
    "\n",
    "# Show the predictions along with features\n",
    "predictions.select(\"passenger_count\", \"pulocationid\", \"dolocationid\", \"total_amount\", \"prediction\").show(10)\n",
    "\n",
    "# Evaluate the model\n",
    "evaluator = RegressionEvaluator(\n",
    "    labelCol=\"total_amount\", \n",
    "    predictionCol=\"prediction\", \n",
    "    metricName=\"rmse\"\n",
    ")\n",
    "\n",
    "rmse = evaluator.evaluate(predictions)\n",
    "print(f\"Root Mean Squared Error (RMSE) on test data = {rmse:.4f}\")\n",
    "\n",
    "# Stop Spark session\n",
    "spark.stop()\n"
   ]
  },
  {
   "cell_type": "code",
   "execution_count": null,
   "id": "34b92849",
   "metadata": {},
   "outputs": [],
   "source": []
  }
 ],
 "metadata": {
  "kernelspec": {
   "display_name": "PySpark",
   "language": "python",
   "name": "pyspark"
  },
  "language_info": {
   "codemirror_mode": {
    "name": "ipython",
    "version": 3
   },
   "file_extension": ".py",
   "mimetype": "text/x-python",
   "name": "python",
   "nbconvert_exporter": "python",
   "pygments_lexer": "ipython3",
   "version": "3.11.8"
  }
 },
 "nbformat": 4,
 "nbformat_minor": 5
}
